{
 "cells": [
  {
   "cell_type": "raw",
   "id": "40096be0",
   "metadata": {
    "papermill": {
     "duration": 0.005048,
     "end_time": "2025-10-18T10:57:37.515753",
     "exception": false,
     "start_time": "2025-10-18T10:57:37.510705",
     "status": "completed"
    },
    "tags": []
   },
   "source": []
  },
  {
   "cell_type": "code",
   "execution_count": 1,
   "id": "06d960c7",
   "metadata": {
    "_cell_guid": "b1076dfc-b9ad-4769-8c92-a6c4dae69d19",
    "_uuid": "8f2839f25d086af736a60e9eeb907d3b93b6e0e5",
    "execution": {
     "iopub.execute_input": "2025-10-18T10:57:37.524547Z",
     "iopub.status.busy": "2025-10-18T10:57:37.524169Z",
     "iopub.status.idle": "2025-10-18T10:57:39.485900Z",
     "shell.execute_reply": "2025-10-18T10:57:39.484648Z"
    },
    "papermill": {
     "duration": 1.96842,
     "end_time": "2025-10-18T10:57:39.488065",
     "exception": false,
     "start_time": "2025-10-18T10:57:37.519645",
     "status": "completed"
    },
    "tags": []
   },
   "outputs": [
    {
     "name": "stdout",
     "output_type": "stream",
     "text": [
      "/kaggle/input/gymshark-products-dataset/gymshark_products.csv\n"
     ]
    }
   ],
   "source": [
    "# This Python 3 environment comes with many helpful analytics libraries installed\n",
    "# It is defined by the kaggle/python Docker image: https://github.com/kaggle/docker-python\n",
    "# For example, here's several helpful packages to load\n",
    "\n",
    "import numpy as np # linear algebra\n",
    "import pandas as pd # data processing, CSV file I/O (e.g. pd.read_csv)\n",
    "\n",
    "# Input data files are available in the read-only \"../input/\" directory\n",
    "# For example, running this (by clicking run or pressing Shift+Enter) will list all files under the input directory\n",
    "\n",
    "import os\n",
    "for dirname, _, filenames in os.walk('/kaggle/input'):\n",
    "    for filename in filenames:\n",
    "        print(os.path.join(dirname, filename))\n",
    "\n",
    "# You can write up to 20GB to the current directory (/kaggle/working/) that gets preserved as output when you create a version using \"Save & Run All\" \n",
    "# You can also write temporary files to /kaggle/temp/, but they won't be saved outside of the current session"
   ]
  },
  {
   "cell_type": "code",
   "execution_count": 2,
   "id": "4edb3247",
   "metadata": {
    "execution": {
     "iopub.execute_input": "2025-10-18T10:57:39.499516Z",
     "iopub.status.busy": "2025-10-18T10:57:39.499036Z",
     "iopub.status.idle": "2025-10-18T10:57:41.356609Z",
     "shell.execute_reply": "2025-10-18T10:57:41.355652Z"
    },
    "papermill": {
     "duration": 1.864448,
     "end_time": "2025-10-18T10:57:41.358446",
     "exception": false,
     "start_time": "2025-10-18T10:57:39.493998",
     "status": "completed"
    },
    "tags": []
   },
   "outputs": [
    {
     "data": {
      "text/html": [
       "<div>\n",
       "<style scoped>\n",
       "    .dataframe tbody tr th:only-of-type {\n",
       "        vertical-align: middle;\n",
       "    }\n",
       "\n",
       "    .dataframe tbody tr th {\n",
       "        vertical-align: top;\n",
       "    }\n",
       "\n",
       "    .dataframe thead th {\n",
       "        text-align: right;\n",
       "    }\n",
       "</style>\n",
       "<table border=\"1\" class=\"dataframe\">\n",
       "  <thead>\n",
       "    <tr style=\"text-align: right;\">\n",
       "      <th></th>\n",
       "      <th>title</th>\n",
       "      <th>product_type</th>\n",
       "      <th>vendor</th>\n",
       "      <th>tags</th>\n",
       "      <th>handle</th>\n",
       "      <th>variant_title</th>\n",
       "      <th>sku</th>\n",
       "      <th>price</th>\n",
       "      <th>inventory_quantity</th>\n",
       "      <th>image_src</th>\n",
       "    </tr>\n",
       "  </thead>\n",
       "  <tbody>\n",
       "    <tr>\n",
       "      <th>0</th>\n",
       "      <td>Gymshark Vital Crop Top - Base Green Marl</td>\n",
       "      <td>Womens Crop Tops</td>\n",
       "      <td>Gymshark | Be a visionary.</td>\n",
       "      <td>02/10/25, activity:Conditioning, akeneo_update...</td>\n",
       "      <td>gymshark-vital-seamless-2-0-crop-top-base-gree...</td>\n",
       "      <td>Extra Small</td>\n",
       "      <td>B1A3D-ECH3-XS</td>\n",
       "      <td>35.0</td>\n",
       "      <td>NaN</td>\n",
       "      <td>https://cdn.shopify.com/s/files/1/0098/8822/fi...</td>\n",
       "    </tr>\n",
       "    <tr>\n",
       "      <th>1</th>\n",
       "      <td>Gymshark Vital Crop Top - Base Green Marl</td>\n",
       "      <td>Womens Crop Tops</td>\n",
       "      <td>Gymshark | Be a visionary.</td>\n",
       "      <td>02/10/25, activity:Conditioning, akeneo_update...</td>\n",
       "      <td>gymshark-vital-seamless-2-0-crop-top-base-gree...</td>\n",
       "      <td>Small</td>\n",
       "      <td>B1A3D-ECH3-S</td>\n",
       "      <td>35.0</td>\n",
       "      <td>NaN</td>\n",
       "      <td>https://cdn.shopify.com/s/files/1/0098/8822/fi...</td>\n",
       "    </tr>\n",
       "    <tr>\n",
       "      <th>2</th>\n",
       "      <td>Gymshark Vital Crop Top - Base Green Marl</td>\n",
       "      <td>Womens Crop Tops</td>\n",
       "      <td>Gymshark | Be a visionary.</td>\n",
       "      <td>02/10/25, activity:Conditioning, akeneo_update...</td>\n",
       "      <td>gymshark-vital-seamless-2-0-crop-top-base-gree...</td>\n",
       "      <td>Medium</td>\n",
       "      <td>B1A3D-ECH3-M</td>\n",
       "      <td>35.0</td>\n",
       "      <td>NaN</td>\n",
       "      <td>https://cdn.shopify.com/s/files/1/0098/8822/fi...</td>\n",
       "    </tr>\n",
       "    <tr>\n",
       "      <th>3</th>\n",
       "      <td>Gymshark Vital Crop Top - Base Green Marl</td>\n",
       "      <td>Womens Crop Tops</td>\n",
       "      <td>Gymshark | Be a visionary.</td>\n",
       "      <td>02/10/25, activity:Conditioning, akeneo_update...</td>\n",
       "      <td>gymshark-vital-seamless-2-0-crop-top-base-gree...</td>\n",
       "      <td>Large</td>\n",
       "      <td>B1A3D-ECH3-L</td>\n",
       "      <td>35.0</td>\n",
       "      <td>NaN</td>\n",
       "      <td>https://cdn.shopify.com/s/files/1/0098/8822/fi...</td>\n",
       "    </tr>\n",
       "    <tr>\n",
       "      <th>4</th>\n",
       "      <td>Gymshark Vital Crop Top - Base Green Marl</td>\n",
       "      <td>Womens Crop Tops</td>\n",
       "      <td>Gymshark | Be a visionary.</td>\n",
       "      <td>02/10/25, activity:Conditioning, akeneo_update...</td>\n",
       "      <td>gymshark-vital-seamless-2-0-crop-top-base-gree...</td>\n",
       "      <td>Extra Large</td>\n",
       "      <td>B1A3D-ECH3-XL</td>\n",
       "      <td>35.0</td>\n",
       "      <td>NaN</td>\n",
       "      <td>https://cdn.shopify.com/s/files/1/0098/8822/fi...</td>\n",
       "    </tr>\n",
       "  </tbody>\n",
       "</table>\n",
       "</div>"
      ],
      "text/plain": [
       "                                       title      product_type  \\\n",
       "0  Gymshark Vital Crop Top - Base Green Marl  Womens Crop Tops   \n",
       "1  Gymshark Vital Crop Top - Base Green Marl  Womens Crop Tops   \n",
       "2  Gymshark Vital Crop Top - Base Green Marl  Womens Crop Tops   \n",
       "3  Gymshark Vital Crop Top - Base Green Marl  Womens Crop Tops   \n",
       "4  Gymshark Vital Crop Top - Base Green Marl  Womens Crop Tops   \n",
       "\n",
       "                       vendor  \\\n",
       "0  Gymshark | Be a visionary.   \n",
       "1  Gymshark | Be a visionary.   \n",
       "2  Gymshark | Be a visionary.   \n",
       "3  Gymshark | Be a visionary.   \n",
       "4  Gymshark | Be a visionary.   \n",
       "\n",
       "                                                tags  \\\n",
       "0  02/10/25, activity:Conditioning, akeneo_update...   \n",
       "1  02/10/25, activity:Conditioning, akeneo_update...   \n",
       "2  02/10/25, activity:Conditioning, akeneo_update...   \n",
       "3  02/10/25, activity:Conditioning, akeneo_update...   \n",
       "4  02/10/25, activity:Conditioning, akeneo_update...   \n",
       "\n",
       "                                              handle variant_title  \\\n",
       "0  gymshark-vital-seamless-2-0-crop-top-base-gree...   Extra Small   \n",
       "1  gymshark-vital-seamless-2-0-crop-top-base-gree...         Small   \n",
       "2  gymshark-vital-seamless-2-0-crop-top-base-gree...        Medium   \n",
       "3  gymshark-vital-seamless-2-0-crop-top-base-gree...         Large   \n",
       "4  gymshark-vital-seamless-2-0-crop-top-base-gree...   Extra Large   \n",
       "\n",
       "             sku  price  inventory_quantity  \\\n",
       "0  B1A3D-ECH3-XS   35.0                 NaN   \n",
       "1   B1A3D-ECH3-S   35.0                 NaN   \n",
       "2   B1A3D-ECH3-M   35.0                 NaN   \n",
       "3   B1A3D-ECH3-L   35.0                 NaN   \n",
       "4  B1A3D-ECH3-XL   35.0                 NaN   \n",
       "\n",
       "                                           image_src  \n",
       "0  https://cdn.shopify.com/s/files/1/0098/8822/fi...  \n",
       "1  https://cdn.shopify.com/s/files/1/0098/8822/fi...  \n",
       "2  https://cdn.shopify.com/s/files/1/0098/8822/fi...  \n",
       "3  https://cdn.shopify.com/s/files/1/0098/8822/fi...  \n",
       "4  https://cdn.shopify.com/s/files/1/0098/8822/fi...  "
      ]
     },
     "execution_count": 2,
     "metadata": {},
     "output_type": "execute_result"
    }
   ],
   "source": [
    "import warnings\n",
    "warnings.filterwarnings(\"ignore\", category=RuntimeWarning)\n",
    "\n",
    "dt = pd.read_csv('/kaggle/input/gymshark-products-dataset/gymshark_products.csv')\n",
    "dt.head()"
   ]
  },
  {
   "cell_type": "code",
   "execution_count": 3,
   "id": "9e59e185",
   "metadata": {
    "execution": {
     "iopub.execute_input": "2025-10-18T10:57:41.368218Z",
     "iopub.status.busy": "2025-10-18T10:57:41.367899Z",
     "iopub.status.idle": "2025-10-18T10:57:41.457354Z",
     "shell.execute_reply": "2025-10-18T10:57:41.456209Z"
    },
    "papermill": {
     "duration": 0.096064,
     "end_time": "2025-10-18T10:57:41.459025",
     "exception": false,
     "start_time": "2025-10-18T10:57:41.362961",
     "status": "completed"
    },
    "tags": []
   },
   "outputs": [
    {
     "name": "stdout",
     "output_type": "stream",
     "text": [
      "<class 'pandas.core.frame.DataFrame'>\n",
      "RangeIndex: 44831 entries, 0 to 44830\n",
      "Data columns (total 10 columns):\n",
      " #   Column              Non-Null Count  Dtype  \n",
      "---  ------              --------------  -----  \n",
      " 0   title               44831 non-null  object \n",
      " 1   product_type        44824 non-null  object \n",
      " 2   vendor              44831 non-null  object \n",
      " 3   tags                44831 non-null  object \n",
      " 4   handle              44831 non-null  object \n",
      " 5   variant_title       44831 non-null  object \n",
      " 6   sku                 44831 non-null  object \n",
      " 7   price               44831 non-null  float64\n",
      " 8   inventory_quantity  0 non-null      float64\n",
      " 9   image_src           44703 non-null  object \n",
      "dtypes: float64(2), object(8)\n",
      "memory usage: 3.4+ MB\n"
     ]
    }
   ],
   "source": [
    "dt.shape\n",
    "dt.describe()\n",
    "dt.isna().sum()\n",
    "dt.info()"
   ]
  },
  {
   "cell_type": "code",
   "execution_count": 4,
   "id": "aeab6fea",
   "metadata": {
    "execution": {
     "iopub.execute_input": "2025-10-18T10:57:41.469114Z",
     "iopub.status.busy": "2025-10-18T10:57:41.468763Z",
     "iopub.status.idle": "2025-10-18T10:57:41.476064Z",
     "shell.execute_reply": "2025-10-18T10:57:41.474734Z"
    },
    "papermill": {
     "duration": 0.014064,
     "end_time": "2025-10-18T10:57:41.477617",
     "exception": false,
     "start_time": "2025-10-18T10:57:41.463553",
     "status": "completed"
    },
    "tags": []
   },
   "outputs": [
    {
     "name": "stdout",
     "output_type": "stream",
     "text": [
      "price                 0\n",
      "inventory_quantity    0\n",
      "dtype: int64\n"
     ]
    }
   ],
   "source": [
    "num_cols = dt.select_dtypes(include= [float,int])\n",
    "print(np.isinf(num_cols).sum())"
   ]
  },
  {
   "cell_type": "code",
   "execution_count": 5,
   "id": "c5c1c9a1",
   "metadata": {
    "execution": {
     "iopub.execute_input": "2025-10-18T10:57:41.487070Z",
     "iopub.status.busy": "2025-10-18T10:57:41.486755Z",
     "iopub.status.idle": "2025-10-18T10:57:41.494140Z",
     "shell.execute_reply": "2025-10-18T10:57:41.493117Z"
    },
    "papermill": {
     "duration": 0.013793,
     "end_time": "2025-10-18T10:57:41.495588",
     "exception": false,
     "start_time": "2025-10-18T10:57:41.481795",
     "status": "completed"
    },
    "tags": []
   },
   "outputs": [
    {
     "data": {
      "text/plain": [
       "0    35.0\n",
       "1    35.0\n",
       "2    35.0\n",
       "3    35.0\n",
       "4    35.0\n",
       "5    35.0\n",
       "6    40.0\n",
       "7    40.0\n",
       "8    40.0\n",
       "9    40.0\n",
       "Name: price, dtype: float64"
      ]
     },
     "execution_count": 5,
     "metadata": {},
     "output_type": "execute_result"
    }
   ],
   "source": [
    "dt['price'].head(10)"
   ]
  },
  {
   "cell_type": "code",
   "execution_count": 6,
   "id": "9856027d",
   "metadata": {
    "execution": {
     "iopub.execute_input": "2025-10-18T10:57:41.505139Z",
     "iopub.status.busy": "2025-10-18T10:57:41.504859Z",
     "iopub.status.idle": "2025-10-18T10:57:41.579588Z",
     "shell.execute_reply": "2025-10-18T10:57:41.578329Z"
    },
    "papermill": {
     "duration": 0.081468,
     "end_time": "2025-10-18T10:57:41.581379",
     "exception": false,
     "start_time": "2025-10-18T10:57:41.499911",
     "status": "completed"
    },
    "tags": []
   },
   "outputs": [
    {
     "name": "stdout",
     "output_type": "stream",
     "text": [
      "                                                text      product_type  \\\n",
      "0  Gymshark Vital Crop Top - Base Green Marl 02/1...  Womens Crop Tops   \n",
      "1  Gymshark Vital Crop Top - Base Green Marl 02/1...  Womens Crop Tops   \n",
      "2  Gymshark Vital Crop Top - Base Green Marl 02/1...  Womens Crop Tops   \n",
      "3  Gymshark Vital Crop Top - Base Green Marl 02/1...  Womens Crop Tops   \n",
      "4  Gymshark Vital Crop Top - Base Green Marl 02/1...  Womens Crop Tops   \n",
      "\n",
      "                       vendor  price  \n",
      "0  Gymshark | Be a visionary.   35.0  \n",
      "1  Gymshark | Be a visionary.   35.0  \n",
      "2  Gymshark | Be a visionary.   35.0  \n",
      "3  Gymshark | Be a visionary.   35.0  \n",
      "4  Gymshark | Be a visionary.   35.0  \n"
     ]
    }
   ],
   "source": [
    "dt['title'] = dt['title'].fillna('')\n",
    "dt['tags'] = dt['tags'].fillna('')\n",
    "\n",
    "dt['text'] = dt['title'] +' '+ dt['tags']\n",
    "\n",
    "dt['product_type'] = dt['product_type'].fillna('unkown')\n",
    "dt['vendor'] = dt['vendor'].fillna('unkown')\n",
    "print(dt[['text', 'product_type', 'vendor', 'price']].head())"
   ]
  },
  {
   "cell_type": "code",
   "execution_count": 7,
   "id": "65d88e99",
   "metadata": {
    "execution": {
     "iopub.execute_input": "2025-10-18T10:57:41.591401Z",
     "iopub.status.busy": "2025-10-18T10:57:41.591055Z",
     "iopub.status.idle": "2025-10-18T10:57:43.179501Z",
     "shell.execute_reply": "2025-10-18T10:57:43.178236Z"
    },
    "papermill": {
     "duration": 1.595684,
     "end_time": "2025-10-18T10:57:43.181386",
     "exception": false,
     "start_time": "2025-10-18T10:57:41.585702",
     "status": "completed"
    },
    "tags": []
   },
   "outputs": [
    {
     "name": "stdout",
     "output_type": "stream",
     "text": [
      "       product_type  product_type_encoded                      vendor  \\\n",
      "0  Womens Crop Tops                    47  Gymshark | Be a visionary.   \n",
      "1  Womens Crop Tops                    47  Gymshark | Be a visionary.   \n",
      "2  Womens Crop Tops                    47  Gymshark | Be a visionary.   \n",
      "3  Womens Crop Tops                    47  Gymshark | Be a visionary.   \n",
      "4  Womens Crop Tops                    47  Gymshark | Be a visionary.   \n",
      "\n",
      "   vendor_encoded  \n",
      "0               3  \n",
      "1               3  \n",
      "2               3  \n",
      "3               3  \n",
      "4               3  \n"
     ]
    }
   ],
   "source": [
    "from sklearn.preprocessing import LabelEncoder\n",
    "\n",
    "label =  LabelEncoder()\n",
    "dt['product_type_encoded'] = label.fit_transform(dt['product_type'])\n",
    "\n",
    "label_vendor = LabelEncoder()\n",
    "dt['vendor_encoded'] = label_vendor.fit_transform(dt['vendor'])\n",
    "\n",
    "print(dt[['product_type', 'product_type_encoded', 'vendor', 'vendor_encoded']].head())\n",
    "\n"
   ]
  },
  {
   "cell_type": "code",
   "execution_count": 8,
   "id": "4bf8972a",
   "metadata": {
    "execution": {
     "iopub.execute_input": "2025-10-18T10:57:43.192849Z",
     "iopub.status.busy": "2025-10-18T10:57:43.191451Z",
     "iopub.status.idle": "2025-10-18T10:57:43.198960Z",
     "shell.execute_reply": "2025-10-18T10:57:43.198061Z"
    },
    "papermill": {
     "duration": 0.01465,
     "end_time": "2025-10-18T10:57:43.200536",
     "exception": false,
     "start_time": "2025-10-18T10:57:43.185886",
     "status": "completed"
    },
    "tags": []
   },
   "outputs": [],
   "source": [
    "dt['price'] = dt['price'].fillna(0)\n",
    "max_price = dt['price'].max()\n",
    "dt['price_scaled'] = dt['price']/max_price"
   ]
  },
  {
   "cell_type": "code",
   "execution_count": 9,
   "id": "11af5356",
   "metadata": {
    "execution": {
     "iopub.execute_input": "2025-10-18T10:57:43.210266Z",
     "iopub.status.busy": "2025-10-18T10:57:43.209934Z",
     "iopub.status.idle": "2025-10-18T10:58:05.516216Z",
     "shell.execute_reply": "2025-10-18T10:58:05.514960Z"
    },
    "papermill": {
     "duration": 22.312915,
     "end_time": "2025-10-18T10:58:05.517765",
     "exception": false,
     "start_time": "2025-10-18T10:57:43.204850",
     "status": "completed"
    },
    "tags": []
   },
   "outputs": [
    {
     "name": "stderr",
     "output_type": "stream",
     "text": [
      "2025-10-18 10:57:45.460978: E external/local_xla/xla/stream_executor/cuda/cuda_fft.cc:477] Unable to register cuFFT factory: Attempting to register factory for plugin cuFFT when one has already been registered\n",
      "WARNING: All log messages before absl::InitializeLog() is called are written to STDERR\n",
      "E0000 00:00:1760785065.749290      13 cuda_dnn.cc:8310] Unable to register cuDNN factory: Attempting to register factory for plugin cuDNN when one has already been registered\n",
      "E0000 00:00:1760785065.834318      13 cuda_blas.cc:1418] Unable to register cuBLAS factory: Attempting to register factory for plugin cuBLAS when one has already been registered\n"
     ]
    },
    {
     "name": "stdout",
     "output_type": "stream",
     "text": [
      "✅ Tokenizing done\n",
      "Vocabulary size: 5462\n",
      "Example padded sequence: [  3   2  48   3  41  31 113  49   8  16   5  82  19  51  94  27  40  37\n",
      "  56  25 132  72   8  16   5  23  54 113  19  64]\n"
     ]
    }
   ],
   "source": [
    "from tensorflow.keras.preprocessing.text import Tokenizer\n",
    "from tensorflow.keras.preprocessing.sequence import pad_sequences\n",
    "\n",
    "\n",
    "\n",
    "vocab_size= 10000\n",
    "\n",
    "max_length = 30\n",
    "\n",
    "tokenizer = Tokenizer(num_words=vocab_size, oov_token=\"<OOV>\")\n",
    "tokenizer.fit_on_texts(dt['text'])  # learn the vocabulary from our text\n",
    "\n",
    "# convert each text to a sequence of numbers\n",
    "sequences = tokenizer.texts_to_sequences(dt['text'])\n",
    "\n",
    "# make all sequences the same length (padding)\n",
    "padded_sequences = pad_sequences(sequences, maxlen=max_length, padding='post')\n",
    "\n",
    "print(\"✅ Tokenizing done\")\n",
    "print(\"Vocabulary size:\", len(tokenizer.word_index))\n",
    "print(\"Example padded sequence:\", padded_sequences[0])"
   ]
  },
  {
   "cell_type": "code",
   "execution_count": 10,
   "id": "c0895622",
   "metadata": {
    "execution": {
     "iopub.execute_input": "2025-10-18T10:58:05.528749Z",
     "iopub.status.busy": "2025-10-18T10:58:05.528125Z",
     "iopub.status.idle": "2025-10-18T10:58:05.684023Z",
     "shell.execute_reply": "2025-10-18T10:58:05.682836Z"
    },
    "papermill": {
     "duration": 0.163131,
     "end_time": "2025-10-18T10:58:05.685826",
     "exception": false,
     "start_time": "2025-10-18T10:58:05.522695",
     "status": "completed"
    },
    "tags": []
   },
   "outputs": [
    {
     "name": "stdout",
     "output_type": "stream",
     "text": [
      "✅ Splitting done\n",
      "Train size: 35864\n",
      "Test size: 8967\n"
     ]
    }
   ],
   "source": [
    "from sklearn.model_selection import train_test_split\n",
    "\n",
    "\n",
    "X_text = np.array(padded_sequences)\n",
    "X_vendor = np.array(dt['vendor_encoded'])\n",
    "X_price = np.array(dt['price_scaled']) \n",
    "\n",
    "y = np.array(dt['product_type_encoded']) \n",
    "\n",
    "(\n",
    "    X_text_train,\n",
    "    X_text_test,\n",
    "    X_vendor_train,\n",
    "    X_vendor_test,\n",
    "    X_price_train,\n",
    "    X_price_test,\n",
    "    y_train,\n",
    "    y_test\n",
    ") = train_test_split(\n",
    "    X_text,\n",
    "    X_vendor,\n",
    "    X_price,\n",
    "    y,\n",
    "    test_size=0.2,\n",
    "    random_state=42\n",
    ")\n",
    "\n",
    "print(\"✅ Splitting done\")\n",
    "print(\"Train size:\", X_text_train.shape[0])\n",
    "print(\"Test size:\", X_text_test.shape[0])"
   ]
  },
  {
   "cell_type": "code",
   "execution_count": 11,
   "id": "731bf312",
   "metadata": {
    "execution": {
     "iopub.execute_input": "2025-10-18T10:58:05.696461Z",
     "iopub.status.busy": "2025-10-18T10:58:05.696124Z",
     "iopub.status.idle": "2025-10-18T10:58:05.748778Z",
     "shell.execute_reply": "2025-10-18T10:58:05.747427Z"
    },
    "papermill": {
     "duration": 0.05989,
     "end_time": "2025-10-18T10:58:05.750374",
     "exception": false,
     "start_time": "2025-10-18T10:58:05.690484",
     "status": "completed"
    },
    "tags": []
   },
   "outputs": [
    {
     "name": "stdout",
     "output_type": "stream",
     "text": [
      "title                   0\n",
      "product_type            0\n",
      "vendor                  0\n",
      "tags                    0\n",
      "handle                  0\n",
      "variant_title           0\n",
      "sku                     0\n",
      "price                   0\n",
      "image_src               0\n",
      "text                    0\n",
      "product_type_encoded    0\n",
      "vendor_encoded          0\n",
      "price_scaled            0\n",
      "dtype: int64\n"
     ]
    }
   ],
   "source": [
    "if 'inventory_quantity' in dt.columns:\n",
    "    dt = dt.drop(columns=['inventory_quantity'])\n",
    "\n",
    "# Fill image_src NaN values with empty string\n",
    "dt['image_src'] = dt['image_src'].fillna('')\n",
    "\n",
    "print(dt.isna().sum())"
   ]
  },
  {
   "cell_type": "code",
   "execution_count": 12,
   "id": "0c032b9d",
   "metadata": {
    "execution": {
     "iopub.execute_input": "2025-10-18T10:58:05.760704Z",
     "iopub.status.busy": "2025-10-18T10:58:05.760335Z",
     "iopub.status.idle": "2025-10-18T10:58:05.934659Z",
     "shell.execute_reply": "2025-10-18T10:58:05.933666Z"
    },
    "papermill": {
     "duration": 0.181191,
     "end_time": "2025-10-18T10:58:05.936176",
     "exception": false,
     "start_time": "2025-10-18T10:58:05.754985",
     "status": "completed"
    },
    "tags": []
   },
   "outputs": [
    {
     "name": "stderr",
     "output_type": "stream",
     "text": [
      "2025-10-18 10:58:05.779434: E external/local_xla/xla/stream_executor/cuda/cuda_driver.cc:152] failed call to cuInit: INTERNAL: CUDA error: Failed call to cuInit: UNKNOWN ERROR (303)\n"
     ]
    },
    {
     "data": {
      "text/html": [
       "<pre style=\"white-space:pre;overflow-x:auto;line-height:normal;font-family:Menlo,'DejaVu Sans Mono',consolas,'Courier New',monospace\"><span style=\"font-weight: bold\">Model: \"functional\"</span>\n",
       "</pre>\n"
      ],
      "text/plain": [
       "\u001b[1mModel: \"functional\"\u001b[0m\n"
      ]
     },
     "metadata": {},
     "output_type": "display_data"
    },
    {
     "data": {
      "text/html": [
       "<pre style=\"white-space:pre;overflow-x:auto;line-height:normal;font-family:Menlo,'DejaVu Sans Mono',consolas,'Courier New',monospace\">┏━━━━━━━━━━━━━━━━━━━━━┳━━━━━━━━━━━━━━━━━━━┳━━━━━━━━━━━━┳━━━━━━━━━━━━━━━━━━━┓\n",
       "┃<span style=\"font-weight: bold\"> Layer (type)        </span>┃<span style=\"font-weight: bold\"> Output Shape      </span>┃<span style=\"font-weight: bold\">    Param # </span>┃<span style=\"font-weight: bold\"> Connected to      </span>┃\n",
       "┡━━━━━━━━━━━━━━━━━━━━━╇━━━━━━━━━━━━━━━━━━━╇━━━━━━━━━━━━╇━━━━━━━━━━━━━━━━━━━┩\n",
       "│ text_input          │ (<span style=\"color: #00d7ff; text-decoration-color: #00d7ff\">None</span>, <span style=\"color: #00af00; text-decoration-color: #00af00\">30</span>)        │          <span style=\"color: #00af00; text-decoration-color: #00af00\">0</span> │ -                 │\n",
       "│ (<span style=\"color: #0087ff; text-decoration-color: #0087ff\">InputLayer</span>)        │                   │            │                   │\n",
       "├─────────────────────┼───────────────────┼────────────┼───────────────────┤\n",
       "│ vendor_input        │ (<span style=\"color: #00d7ff; text-decoration-color: #00d7ff\">None</span>, <span style=\"color: #00af00; text-decoration-color: #00af00\">1</span>)         │          <span style=\"color: #00af00; text-decoration-color: #00af00\">0</span> │ -                 │\n",
       "│ (<span style=\"color: #0087ff; text-decoration-color: #0087ff\">InputLayer</span>)        │                   │            │                   │\n",
       "├─────────────────────┼───────────────────┼────────────┼───────────────────┤\n",
       "│ embedding           │ (<span style=\"color: #00d7ff; text-decoration-color: #00d7ff\">None</span>, <span style=\"color: #00af00; text-decoration-color: #00af00\">30</span>, <span style=\"color: #00af00; text-decoration-color: #00af00\">64</span>)    │    <span style=\"color: #00af00; text-decoration-color: #00af00\">640,000</span> │ text_input[<span style=\"color: #00af00; text-decoration-color: #00af00\">0</span>][<span style=\"color: #00af00; text-decoration-color: #00af00\">0</span>]  │\n",
       "│ (<span style=\"color: #0087ff; text-decoration-color: #0087ff\">Embedding</span>)         │                   │            │                   │\n",
       "├─────────────────────┼───────────────────┼────────────┼───────────────────┤\n",
       "│ embedding_1         │ (<span style=\"color: #00d7ff; text-decoration-color: #00d7ff\">None</span>, <span style=\"color: #00af00; text-decoration-color: #00af00\">1</span>, <span style=\"color: #00af00; text-decoration-color: #00af00\">8</span>)      │         <span style=\"color: #00af00; text-decoration-color: #00af00\">40</span> │ vendor_input[<span style=\"color: #00af00; text-decoration-color: #00af00\">0</span>][<span style=\"color: #00af00; text-decoration-color: #00af00\">…</span> │\n",
       "│ (<span style=\"color: #0087ff; text-decoration-color: #0087ff\">Embedding</span>)         │                   │            │                   │\n",
       "├─────────────────────┼───────────────────┼────────────┼───────────────────┤\n",
       "│ price_input         │ (<span style=\"color: #00d7ff; text-decoration-color: #00d7ff\">None</span>, <span style=\"color: #00af00; text-decoration-color: #00af00\">1</span>)         │          <span style=\"color: #00af00; text-decoration-color: #00af00\">0</span> │ -                 │\n",
       "│ (<span style=\"color: #0087ff; text-decoration-color: #0087ff\">InputLayer</span>)        │                   │            │                   │\n",
       "├─────────────────────┼───────────────────┼────────────┼───────────────────┤\n",
       "│ global_average_poo… │ (<span style=\"color: #00d7ff; text-decoration-color: #00d7ff\">None</span>, <span style=\"color: #00af00; text-decoration-color: #00af00\">64</span>)        │          <span style=\"color: #00af00; text-decoration-color: #00af00\">0</span> │ embedding[<span style=\"color: #00af00; text-decoration-color: #00af00\">0</span>][<span style=\"color: #00af00; text-decoration-color: #00af00\">0</span>]   │\n",
       "│ (<span style=\"color: #0087ff; text-decoration-color: #0087ff\">GlobalAveragePool…</span> │                   │            │                   │\n",
       "├─────────────────────┼───────────────────┼────────────┼───────────────────┤\n",
       "│ flatten (<span style=\"color: #0087ff; text-decoration-color: #0087ff\">Flatten</span>)   │ (<span style=\"color: #00d7ff; text-decoration-color: #00d7ff\">None</span>, <span style=\"color: #00af00; text-decoration-color: #00af00\">8</span>)         │          <span style=\"color: #00af00; text-decoration-color: #00af00\">0</span> │ embedding_1[<span style=\"color: #00af00; text-decoration-color: #00af00\">0</span>][<span style=\"color: #00af00; text-decoration-color: #00af00\">0</span>] │\n",
       "├─────────────────────┼───────────────────┼────────────┼───────────────────┤\n",
       "│ dense (<span style=\"color: #0087ff; text-decoration-color: #0087ff\">Dense</span>)       │ (<span style=\"color: #00d7ff; text-decoration-color: #00d7ff\">None</span>, <span style=\"color: #00af00; text-decoration-color: #00af00\">8</span>)         │         <span style=\"color: #00af00; text-decoration-color: #00af00\">16</span> │ price_input[<span style=\"color: #00af00; text-decoration-color: #00af00\">0</span>][<span style=\"color: #00af00; text-decoration-color: #00af00\">0</span>] │\n",
       "├─────────────────────┼───────────────────┼────────────┼───────────────────┤\n",
       "│ concatenate         │ (<span style=\"color: #00d7ff; text-decoration-color: #00d7ff\">None</span>, <span style=\"color: #00af00; text-decoration-color: #00af00\">80</span>)        │          <span style=\"color: #00af00; text-decoration-color: #00af00\">0</span> │ global_average_p… │\n",
       "│ (<span style=\"color: #0087ff; text-decoration-color: #0087ff\">Concatenate</span>)       │                   │            │ flatten[<span style=\"color: #00af00; text-decoration-color: #00af00\">0</span>][<span style=\"color: #00af00; text-decoration-color: #00af00\">0</span>],    │\n",
       "│                     │                   │            │ dense[<span style=\"color: #00af00; text-decoration-color: #00af00\">0</span>][<span style=\"color: #00af00; text-decoration-color: #00af00\">0</span>]       │\n",
       "├─────────────────────┼───────────────────┼────────────┼───────────────────┤\n",
       "│ dense_1 (<span style=\"color: #0087ff; text-decoration-color: #0087ff\">Dense</span>)     │ (<span style=\"color: #00d7ff; text-decoration-color: #00d7ff\">None</span>, <span style=\"color: #00af00; text-decoration-color: #00af00\">64</span>)        │      <span style=\"color: #00af00; text-decoration-color: #00af00\">5,184</span> │ concatenate[<span style=\"color: #00af00; text-decoration-color: #00af00\">0</span>][<span style=\"color: #00af00; text-decoration-color: #00af00\">0</span>] │\n",
       "├─────────────────────┼───────────────────┼────────────┼───────────────────┤\n",
       "│ dropout (<span style=\"color: #0087ff; text-decoration-color: #0087ff\">Dropout</span>)   │ (<span style=\"color: #00d7ff; text-decoration-color: #00d7ff\">None</span>, <span style=\"color: #00af00; text-decoration-color: #00af00\">64</span>)        │          <span style=\"color: #00af00; text-decoration-color: #00af00\">0</span> │ dense_1[<span style=\"color: #00af00; text-decoration-color: #00af00\">0</span>][<span style=\"color: #00af00; text-decoration-color: #00af00\">0</span>]     │\n",
       "├─────────────────────┼───────────────────┼────────────┼───────────────────┤\n",
       "│ dense_2 (<span style=\"color: #0087ff; text-decoration-color: #0087ff\">Dense</span>)     │ (<span style=\"color: #00d7ff; text-decoration-color: #00d7ff\">None</span>, <span style=\"color: #00af00; text-decoration-color: #00af00\">32</span>)        │      <span style=\"color: #00af00; text-decoration-color: #00af00\">2,080</span> │ dropout[<span style=\"color: #00af00; text-decoration-color: #00af00\">0</span>][<span style=\"color: #00af00; text-decoration-color: #00af00\">0</span>]     │\n",
       "├─────────────────────┼───────────────────┼────────────┼───────────────────┤\n",
       "│ dense_3 (<span style=\"color: #0087ff; text-decoration-color: #0087ff\">Dense</span>)     │ (<span style=\"color: #00d7ff; text-decoration-color: #00d7ff\">None</span>, <span style=\"color: #00af00; text-decoration-color: #00af00\">92</span>)        │      <span style=\"color: #00af00; text-decoration-color: #00af00\">3,036</span> │ dense_2[<span style=\"color: #00af00; text-decoration-color: #00af00\">0</span>][<span style=\"color: #00af00; text-decoration-color: #00af00\">0</span>]     │\n",
       "└─────────────────────┴───────────────────┴────────────┴───────────────────┘\n",
       "</pre>\n"
      ],
      "text/plain": [
       "┏━━━━━━━━━━━━━━━━━━━━━┳━━━━━━━━━━━━━━━━━━━┳━━━━━━━━━━━━┳━━━━━━━━━━━━━━━━━━━┓\n",
       "┃\u001b[1m \u001b[0m\u001b[1mLayer (type)       \u001b[0m\u001b[1m \u001b[0m┃\u001b[1m \u001b[0m\u001b[1mOutput Shape     \u001b[0m\u001b[1m \u001b[0m┃\u001b[1m \u001b[0m\u001b[1m   Param #\u001b[0m\u001b[1m \u001b[0m┃\u001b[1m \u001b[0m\u001b[1mConnected to     \u001b[0m\u001b[1m \u001b[0m┃\n",
       "┡━━━━━━━━━━━━━━━━━━━━━╇━━━━━━━━━━━━━━━━━━━╇━━━━━━━━━━━━╇━━━━━━━━━━━━━━━━━━━┩\n",
       "│ text_input          │ (\u001b[38;5;45mNone\u001b[0m, \u001b[38;5;34m30\u001b[0m)        │          \u001b[38;5;34m0\u001b[0m │ -                 │\n",
       "│ (\u001b[38;5;33mInputLayer\u001b[0m)        │                   │            │                   │\n",
       "├─────────────────────┼───────────────────┼────────────┼───────────────────┤\n",
       "│ vendor_input        │ (\u001b[38;5;45mNone\u001b[0m, \u001b[38;5;34m1\u001b[0m)         │          \u001b[38;5;34m0\u001b[0m │ -                 │\n",
       "│ (\u001b[38;5;33mInputLayer\u001b[0m)        │                   │            │                   │\n",
       "├─────────────────────┼───────────────────┼────────────┼───────────────────┤\n",
       "│ embedding           │ (\u001b[38;5;45mNone\u001b[0m, \u001b[38;5;34m30\u001b[0m, \u001b[38;5;34m64\u001b[0m)    │    \u001b[38;5;34m640,000\u001b[0m │ text_input[\u001b[38;5;34m0\u001b[0m][\u001b[38;5;34m0\u001b[0m]  │\n",
       "│ (\u001b[38;5;33mEmbedding\u001b[0m)         │                   │            │                   │\n",
       "├─────────────────────┼───────────────────┼────────────┼───────────────────┤\n",
       "│ embedding_1         │ (\u001b[38;5;45mNone\u001b[0m, \u001b[38;5;34m1\u001b[0m, \u001b[38;5;34m8\u001b[0m)      │         \u001b[38;5;34m40\u001b[0m │ vendor_input[\u001b[38;5;34m0\u001b[0m][\u001b[38;5;34m…\u001b[0m │\n",
       "│ (\u001b[38;5;33mEmbedding\u001b[0m)         │                   │            │                   │\n",
       "├─────────────────────┼───────────────────┼────────────┼───────────────────┤\n",
       "│ price_input         │ (\u001b[38;5;45mNone\u001b[0m, \u001b[38;5;34m1\u001b[0m)         │          \u001b[38;5;34m0\u001b[0m │ -                 │\n",
       "│ (\u001b[38;5;33mInputLayer\u001b[0m)        │                   │            │                   │\n",
       "├─────────────────────┼───────────────────┼────────────┼───────────────────┤\n",
       "│ global_average_poo… │ (\u001b[38;5;45mNone\u001b[0m, \u001b[38;5;34m64\u001b[0m)        │          \u001b[38;5;34m0\u001b[0m │ embedding[\u001b[38;5;34m0\u001b[0m][\u001b[38;5;34m0\u001b[0m]   │\n",
       "│ (\u001b[38;5;33mGlobalAveragePool…\u001b[0m │                   │            │                   │\n",
       "├─────────────────────┼───────────────────┼────────────┼───────────────────┤\n",
       "│ flatten (\u001b[38;5;33mFlatten\u001b[0m)   │ (\u001b[38;5;45mNone\u001b[0m, \u001b[38;5;34m8\u001b[0m)         │          \u001b[38;5;34m0\u001b[0m │ embedding_1[\u001b[38;5;34m0\u001b[0m][\u001b[38;5;34m0\u001b[0m] │\n",
       "├─────────────────────┼───────────────────┼────────────┼───────────────────┤\n",
       "│ dense (\u001b[38;5;33mDense\u001b[0m)       │ (\u001b[38;5;45mNone\u001b[0m, \u001b[38;5;34m8\u001b[0m)         │         \u001b[38;5;34m16\u001b[0m │ price_input[\u001b[38;5;34m0\u001b[0m][\u001b[38;5;34m0\u001b[0m] │\n",
       "├─────────────────────┼───────────────────┼────────────┼───────────────────┤\n",
       "│ concatenate         │ (\u001b[38;5;45mNone\u001b[0m, \u001b[38;5;34m80\u001b[0m)        │          \u001b[38;5;34m0\u001b[0m │ global_average_p… │\n",
       "│ (\u001b[38;5;33mConcatenate\u001b[0m)       │                   │            │ flatten[\u001b[38;5;34m0\u001b[0m][\u001b[38;5;34m0\u001b[0m],    │\n",
       "│                     │                   │            │ dense[\u001b[38;5;34m0\u001b[0m][\u001b[38;5;34m0\u001b[0m]       │\n",
       "├─────────────────────┼───────────────────┼────────────┼───────────────────┤\n",
       "│ dense_1 (\u001b[38;5;33mDense\u001b[0m)     │ (\u001b[38;5;45mNone\u001b[0m, \u001b[38;5;34m64\u001b[0m)        │      \u001b[38;5;34m5,184\u001b[0m │ concatenate[\u001b[38;5;34m0\u001b[0m][\u001b[38;5;34m0\u001b[0m] │\n",
       "├─────────────────────┼───────────────────┼────────────┼───────────────────┤\n",
       "│ dropout (\u001b[38;5;33mDropout\u001b[0m)   │ (\u001b[38;5;45mNone\u001b[0m, \u001b[38;5;34m64\u001b[0m)        │          \u001b[38;5;34m0\u001b[0m │ dense_1[\u001b[38;5;34m0\u001b[0m][\u001b[38;5;34m0\u001b[0m]     │\n",
       "├─────────────────────┼───────────────────┼────────────┼───────────────────┤\n",
       "│ dense_2 (\u001b[38;5;33mDense\u001b[0m)     │ (\u001b[38;5;45mNone\u001b[0m, \u001b[38;5;34m32\u001b[0m)        │      \u001b[38;5;34m2,080\u001b[0m │ dropout[\u001b[38;5;34m0\u001b[0m][\u001b[38;5;34m0\u001b[0m]     │\n",
       "├─────────────────────┼───────────────────┼────────────┼───────────────────┤\n",
       "│ dense_3 (\u001b[38;5;33mDense\u001b[0m)     │ (\u001b[38;5;45mNone\u001b[0m, \u001b[38;5;34m92\u001b[0m)        │      \u001b[38;5;34m3,036\u001b[0m │ dense_2[\u001b[38;5;34m0\u001b[0m][\u001b[38;5;34m0\u001b[0m]     │\n",
       "└─────────────────────┴───────────────────┴────────────┴───────────────────┘\n"
      ]
     },
     "metadata": {},
     "output_type": "display_data"
    },
    {
     "data": {
      "text/html": [
       "<pre style=\"white-space:pre;overflow-x:auto;line-height:normal;font-family:Menlo,'DejaVu Sans Mono',consolas,'Courier New',monospace\"><span style=\"font-weight: bold\"> Total params: </span><span style=\"color: #00af00; text-decoration-color: #00af00\">650,356</span> (2.48 MB)\n",
       "</pre>\n"
      ],
      "text/plain": [
       "\u001b[1m Total params: \u001b[0m\u001b[38;5;34m650,356\u001b[0m (2.48 MB)\n"
      ]
     },
     "metadata": {},
     "output_type": "display_data"
    },
    {
     "data": {
      "text/html": [
       "<pre style=\"white-space:pre;overflow-x:auto;line-height:normal;font-family:Menlo,'DejaVu Sans Mono',consolas,'Courier New',monospace\"><span style=\"font-weight: bold\"> Trainable params: </span><span style=\"color: #00af00; text-decoration-color: #00af00\">650,356</span> (2.48 MB)\n",
       "</pre>\n"
      ],
      "text/plain": [
       "\u001b[1m Trainable params: \u001b[0m\u001b[38;5;34m650,356\u001b[0m (2.48 MB)\n"
      ]
     },
     "metadata": {},
     "output_type": "display_data"
    },
    {
     "data": {
      "text/html": [
       "<pre style=\"white-space:pre;overflow-x:auto;line-height:normal;font-family:Menlo,'DejaVu Sans Mono',consolas,'Courier New',monospace\"><span style=\"font-weight: bold\"> Non-trainable params: </span><span style=\"color: #00af00; text-decoration-color: #00af00\">0</span> (0.00 B)\n",
       "</pre>\n"
      ],
      "text/plain": [
       "\u001b[1m Non-trainable params: \u001b[0m\u001b[38;5;34m0\u001b[0m (0.00 B)\n"
      ]
     },
     "metadata": {},
     "output_type": "display_data"
    }
   ],
   "source": [
    "import tensorflow as tf\n",
    "from tensorflow import keras\n",
    "from tensorflow.keras import layers\n",
    "\n",
    "\n",
    "num_classes = len(dt['product_type'].unique())\n",
    "num_vendors = len(dt['vendor'].unique())\n",
    "\n",
    "\n",
    "# ---------------- TEXT INPUT ----------------\n",
    "text_input = keras.Input(shape=(X_text_train.shape[1],), name=\"text_input\")\n",
    "text_embedding = layers.Embedding(input_dim=10000, output_dim=64)(text_input)\n",
    "text_features = layers.GlobalAveragePooling1D()(text_embedding)\n",
    "\n",
    "# ---------------- VENDOR INPUT ----------------\n",
    "vendor_input = keras.Input(shape=(1,), name=\"vendor_input\")\n",
    "vendor_embedding = layers.Embedding(input_dim=num_vendors+1, output_dim=8)(vendor_input)\n",
    "vendor_features = layers.Flatten()(vendor_embedding)\n",
    "\n",
    "# ---------------- PRICE INPUT ----------------\n",
    "price_input = keras.Input(shape=(1,), name=\"price_input\")\n",
    "price_features = layers.Dense(8, activation=\"relu\")(price_input)\n",
    "\n",
    "# ---------------- COMBINE FEATURES ----------------\n",
    "combined = layers.Concatenate()([text_features, vendor_features, price_features])\n",
    "\n",
    "# ---------------- HIDDEN LAYERS ----------------\n",
    "x = layers.Dense(64, activation=\"relu\")(combined)\n",
    "x = layers.Dropout(0.3)(x)\n",
    "x = layers.Dense(32, activation=\"relu\")(x)\n",
    "\n",
    "# ---------------- OUTPUT LAYER ----------------\n",
    "output = layers.Dense(num_classes, activation=\"softmax\")(x)\n",
    "\n",
    "# ---------------- BUILD MODEL ----------------\n",
    "model = keras.Model(inputs=[text_input, vendor_input, price_input], outputs=output)\n",
    "\n",
    "# ---------------- COMPILE MODEL ----------------\n",
    "model.compile(\n",
    "    optimizer=\"adam\",\n",
    "    loss=\"sparse_categorical_crossentropy\",\n",
    "    metrics=[\"accuracy\"]\n",
    ")\n",
    "\n",
    "model.summary()\n"
   ]
  },
  {
   "cell_type": "code",
   "execution_count": 13,
   "id": "92c20ea5",
   "metadata": {
    "execution": {
     "iopub.execute_input": "2025-10-18T10:58:05.948274Z",
     "iopub.status.busy": "2025-10-18T10:58:05.947944Z",
     "iopub.status.idle": "2025-10-18T10:59:21.961838Z",
     "shell.execute_reply": "2025-10-18T10:59:21.960468Z"
    },
    "papermill": {
     "duration": 76.021784,
     "end_time": "2025-10-18T10:59:21.963481",
     "exception": false,
     "start_time": "2025-10-18T10:58:05.941697",
     "status": "completed"
    },
    "tags": []
   },
   "outputs": [
    {
     "name": "stdout",
     "output_type": "stream",
     "text": [
      "Epoch 1/10\n",
      "\u001b[1m1121/1121\u001b[0m \u001b[32m━━━━━━━━━━━━━━━━━━━━\u001b[0m\u001b[37m\u001b[0m \u001b[1m10s\u001b[0m 7ms/step - accuracy: 0.3383 - loss: 2.6511 - val_accuracy: 0.6961 - val_loss: 0.8838\n",
      "Epoch 2/10\n",
      "\u001b[1m1121/1121\u001b[0m \u001b[32m━━━━━━━━━━━━━━━━━━━━\u001b[0m\u001b[37m\u001b[0m \u001b[1m7s\u001b[0m 7ms/step - accuracy: 0.6913 - loss: 0.9105 - val_accuracy: 0.7624 - val_loss: 0.6578\n",
      "Epoch 3/10\n",
      "\u001b[1m1121/1121\u001b[0m \u001b[32m━━━━━━━━━━━━━━━━━━━━\u001b[0m\u001b[37m\u001b[0m \u001b[1m7s\u001b[0m 6ms/step - accuracy: 0.7635 - loss: 0.6832 - val_accuracy: 0.8317 - val_loss: 0.5192\n",
      "Epoch 4/10\n",
      "\u001b[1m1121/1121\u001b[0m \u001b[32m━━━━━━━━━━━━━━━━━━━━\u001b[0m\u001b[37m\u001b[0m \u001b[1m7s\u001b[0m 6ms/step - accuracy: 0.8086 - loss: 0.5701 - val_accuracy: 0.8616 - val_loss: 0.4399\n",
      "Epoch 5/10\n",
      "\u001b[1m1121/1121\u001b[0m \u001b[32m━━━━━━━━━━━━━━━━━━━━\u001b[0m\u001b[37m\u001b[0m \u001b[1m7s\u001b[0m 6ms/step - accuracy: 0.8336 - loss: 0.4949 - val_accuracy: 0.8701 - val_loss: 0.3874\n",
      "Epoch 6/10\n",
      "\u001b[1m1121/1121\u001b[0m \u001b[32m━━━━━━━━━━━━━━━━━━━━\u001b[0m\u001b[37m\u001b[0m \u001b[1m7s\u001b[0m 6ms/step - accuracy: 0.8492 - loss: 0.4519 - val_accuracy: 0.8819 - val_loss: 0.3531\n",
      "Epoch 7/10\n",
      "\u001b[1m1121/1121\u001b[0m \u001b[32m━━━━━━━━━━━━━━━━━━━━\u001b[0m\u001b[37m\u001b[0m \u001b[1m7s\u001b[0m 6ms/step - accuracy: 0.8621 - loss: 0.4099 - val_accuracy: 0.8923 - val_loss: 0.3338\n",
      "Epoch 8/10\n",
      "\u001b[1m1121/1121\u001b[0m \u001b[32m━━━━━━━━━━━━━━━━━━━━\u001b[0m\u001b[37m\u001b[0m \u001b[1m7s\u001b[0m 6ms/step - accuracy: 0.8677 - loss: 0.3881 - val_accuracy: 0.8913 - val_loss: 0.3142\n",
      "Epoch 9/10\n",
      "\u001b[1m1121/1121\u001b[0m \u001b[32m━━━━━━━━━━━━━━━━━━━━\u001b[0m\u001b[37m\u001b[0m \u001b[1m8s\u001b[0m 7ms/step - accuracy: 0.8747 - loss: 0.3665 - val_accuracy: 0.8967 - val_loss: 0.2961\n",
      "Epoch 10/10\n",
      "\u001b[1m1121/1121\u001b[0m \u001b[32m━━━━━━━━━━━━━━━━━━━━\u001b[0m\u001b[37m\u001b[0m \u001b[1m7s\u001b[0m 6ms/step - accuracy: 0.8808 - loss: 0.3448 - val_accuracy: 0.9005 - val_loss: 0.2810\n"
     ]
    },
    {
     "data": {
      "text/plain": [
       "<keras.src.callbacks.history.History at 0x78373ef6ced0>"
      ]
     },
     "execution_count": 13,
     "metadata": {},
     "output_type": "execute_result"
    }
   ],
   "source": [
    "model.fit(\n",
    "    [X_text_train, X_vendor_train, X_price_train],\n",
    "    y_train,\n",
    "    validation_data=([X_text_test, X_vendor_test, X_price_test], y_test),\n",
    "    epochs=10,\n",
    "    batch_size=32\n",
    ")\n"
   ]
  },
  {
   "cell_type": "code",
   "execution_count": 14,
   "id": "2c4843c7",
   "metadata": {
    "execution": {
     "iopub.execute_input": "2025-10-18T10:59:22.102293Z",
     "iopub.status.busy": "2025-10-18T10:59:22.101960Z",
     "iopub.status.idle": "2025-10-18T10:59:25.571669Z",
     "shell.execute_reply": "2025-10-18T10:59:25.570523Z"
    },
    "papermill": {
     "duration": 3.541455,
     "end_time": "2025-10-18T10:59:25.573431",
     "exception": false,
     "start_time": "2025-10-18T10:59:22.031976",
     "status": "completed"
    },
    "tags": []
   },
   "outputs": [
    {
     "name": "stdout",
     "output_type": "stream",
     "text": [
      "\u001b[1m281/281\u001b[0m \u001b[32m━━━━━━━━━━━━━━━━━━━━\u001b[0m\u001b[37m\u001b[0m \u001b[1m1s\u001b[0m 2ms/step - accuracy: 0.8991 - loss: 0.2850\n",
      "Test loss & accuracy: [0.2809935510158539, 0.9005241394042969]\n",
      "\u001b[1m281/281\u001b[0m \u001b[32m━━━━━━━━━━━━━━━━━━━━\u001b[0m\u001b[37m\u001b[0m \u001b[1m1s\u001b[0m 2ms/step\n",
      "\n",
      "Classification report (precision, recall, f1):\n",
      "              precision    recall  f1-score   support\n",
      "\n",
      "           0       0.83      0.92      0.87       267\n",
      "           1       0.00      0.00      0.00         2\n",
      "           2       0.57      0.67      0.62         6\n",
      "           3       0.00      0.00      0.00         6\n",
      "           4       0.00      0.00      0.00         3\n",
      "           5       1.00      1.00      1.00        21\n",
      "           6       1.00      1.00      1.00         1\n",
      "           7       0.17      0.25      0.20         4\n",
      "           8       1.00      0.50      0.67        28\n",
      "           9       0.70      0.93      0.80       167\n",
      "          10       1.00      0.59      0.74        27\n",
      "          11       0.94      0.93      0.93       286\n",
      "          12       1.00      0.95      0.97        19\n",
      "          13       0.00      0.00      0.00         1\n",
      "          14       0.96      0.96      0.96        56\n",
      "          15       0.78      0.25      0.38       114\n",
      "          16       0.67      1.00      0.80         4\n",
      "          17       0.83      0.92      0.88       173\n",
      "          18       0.89      0.64      0.75        90\n",
      "          19       0.00      0.00      0.00         1\n",
      "          20       0.80      0.91      0.85       169\n",
      "          21       0.96      0.73      0.83        63\n",
      "          22       0.89      0.95      0.92       255\n",
      "          23       0.00      0.00      0.00         2\n",
      "          24       0.99      1.00      0.99       656\n",
      "          25       0.00      0.00      0.00         3\n",
      "          26       0.87      0.89      0.88       187\n",
      "          27       0.85      0.86      0.85       306\n",
      "          28       0.97      1.00      0.98       117\n",
      "          29       1.00      1.00      1.00         1\n",
      "          30       1.00      0.57      0.73         7\n",
      "          31       0.91      0.95      0.93       917\n",
      "          32       0.88      0.89      0.88       242\n",
      "          33       0.00      0.00      0.00         6\n",
      "          34       1.00      1.00      1.00        68\n",
      "          35       0.00      0.00      0.00         5\n",
      "          36       1.00      0.50      0.67         4\n",
      "          37       1.00      1.00      1.00         1\n",
      "          38       1.00      1.00      1.00         1\n",
      "          39       0.72      0.58      0.64        79\n",
      "          40       0.67      0.80      0.73         5\n",
      "          42       1.00      1.00      1.00         8\n",
      "          43       0.00      0.00      0.00         1\n",
      "          44       0.00      0.00      0.00         1\n",
      "          45       0.93      0.84      0.88       114\n",
      "          46       0.71      0.53      0.61        79\n",
      "          47       0.88      0.93      0.91       353\n",
      "          48       0.56      0.50      0.53        10\n",
      "          49       0.86      0.65      0.74       146\n",
      "          50       0.65      0.42      0.51        26\n",
      "          51       0.50      1.00      0.67         2\n",
      "          52       0.67      0.40      0.50        20\n",
      "          53       0.00      0.00      0.00         6\n",
      "          54       0.88      1.00      0.94        99\n",
      "          55       0.99      1.00      1.00       559\n",
      "          56       0.85      0.82      0.84       130\n",
      "          57       0.92      0.91      0.91        64\n",
      "          58       1.00      0.25      0.40         8\n",
      "          59       0.88      1.00      0.94        53\n",
      "          60       0.92      0.95      0.93       174\n",
      "          61       0.86      0.65      0.74        65\n",
      "          62       0.75      0.96      0.84       215\n",
      "          63       1.00      0.99      0.99       557\n",
      "          64       1.00      0.60      0.75         5\n",
      "          65       0.00      0.00      0.00         8\n",
      "          66       0.87      0.87      0.87       103\n",
      "          67       0.00      0.00      0.00         1\n",
      "          68       0.99      0.93      0.96       194\n",
      "          69       0.98      1.00      0.99       513\n",
      "          70       0.95      0.71      0.81       170\n",
      "          71       0.00      0.00      0.00         2\n",
      "          72       1.00      1.00      1.00        10\n",
      "          73       0.88      0.95      0.92       440\n",
      "          74       0.78      0.92      0.85       220\n",
      "          75       0.00      0.00      0.00        11\n",
      "          76       0.94      1.00      0.97       152\n",
      "          77       0.75      0.38      0.50        32\n",
      "          78       0.00      0.00      0.00         1\n",
      "          79       0.00      0.00      0.00         1\n",
      "          80       1.00      1.00      1.00        19\n",
      "          82       0.00      0.00      0.00         6\n",
      "          84       0.00      0.00      0.00         1\n",
      "          85       0.67      1.00      0.80         4\n",
      "          86       0.00      0.00      0.00         3\n",
      "          87       0.00      0.00      0.00         4\n",
      "          89       1.00      0.50      0.67         2\n",
      "          91       0.56      1.00      0.71         5\n",
      "\n",
      "    accuracy                           0.90      8967\n",
      "   macro avg       0.64      0.61      0.61      8967\n",
      "weighted avg       0.90      0.90      0.89      8967\n",
      "\n",
      "Top-3 accuracy: 0.9926\n"
     ]
    },
    {
     "data": {
      "image/png": "[encoded data removed]",
      "text/plain": [
       "<Figure size 1000x800 with 2 Axes>"
      ]
     },
     "metadata": {},
     "output_type": "display_data"
    },
    {
     "name": "stdout",
     "output_type": "stream",
     "text": [
      "No `history` object found (skip plotting).\n"
     ]
    }
   ],
   "source": [
    "# -------------- EVALUATION --------------\n",
    "\n",
    "from sklearn.metrics import classification_report, confusion_matrix\n",
    "import matplotlib.pyplot as plt\n",
    "import seaborn as sns\n",
    "\n",
    "\n",
    "# 1) Basic evaluate (loss & accuracy)\n",
    "eval_results = model.evaluate(\n",
    "    [X_text_test, X_vendor_test, X_price_test],\n",
    "    y_test,\n",
    "    verbose=1\n",
    ")\n",
    "print(\"Test loss & accuracy:\", eval_results)\n",
    "\n",
    "# 2) Predictions and classification metrics\n",
    "y_probs = model.predict([X_text_test, X_vendor_test, X_price_test], verbose=1)  # shape (N, num_classes)\n",
    "y_pred = np.argmax(y_probs, axis=1)\n",
    "\n",
    "print(\"\\nClassification report (precision, recall, f1):\")\n",
    "print(classification_report(y_test, y_pred, zero_division=0))\n",
    "\n",
    "# 3) Top-k accuracy (useful for recommendation-like tasks; k=3)\n",
    "top3 = tf.keras.metrics.SparseTopKCategoricalAccuracy(k=3)\n",
    "top3.update_state(y_test, y_probs)\n",
    "print(f\"Top-3 accuracy: {top3.result().numpy():.4f}\")\n",
    "\n",
    "# 4) Confusion matrix (visual)\n",
    "cm = confusion_matrix(y_test, y_pred)\n",
    "plt.figure(figsize=(10,8))\n",
    "sns.heatmap(cm, cmap='Blues', square=True)\n",
    "plt.title(\"Confusion matrix (predicted vs true)\")\n",
    "plt.ylabel(\"True class index\")\n",
    "plt.xlabel(\"Predicted class index\")\n",
    "plt.show()\n",
    "\n",
    "# 5) (Optional) Plot training curves if 'history' is available\n",
    "try:\n",
    "    hist = history.history\n",
    "    plt.figure(figsize=(12,4))\n",
    "    plt.subplot(1,2,1)\n",
    "    plt.plot(hist['loss'], label='train loss')\n",
    "    plt.plot(hist['val_loss'], label='val loss')\n",
    "    plt.legend(); plt.title('Loss')\n",
    "\n",
    "    plt.subplot(1,2,2)\n",
    "    plt.plot(hist['accuracy'], label='train acc')\n",
    "    plt.plot(hist['val_accuracy'], label='val acc')\n",
    "    plt.legend(); plt.title('Accuracy')\n",
    "\n",
    "    plt.show()\n",
    "except NameError:\n",
    "    print(\"No `history` object found (skip plotting).\")\n"
   ]
  },
  {
   "cell_type": "code",
   "execution_count": 15,
   "id": "787cc027",
   "metadata": {
    "execution": {
     "iopub.execute_input": "2025-10-18T10:59:25.718529Z",
     "iopub.status.busy": "2025-10-18T10:59:25.717926Z",
     "iopub.status.idle": "2025-10-18T10:59:29.159480Z",
     "shell.execute_reply": "2025-10-18T10:59:29.158501Z"
    },
    "papermill": {
     "duration": 3.515861,
     "end_time": "2025-10-18T10:59:29.161340",
     "exception": false,
     "start_time": "2025-10-18T10:59:25.645479",
     "status": "completed"
    },
    "tags": []
   },
   "outputs": [
    {
     "name": "stdout",
     "output_type": "stream",
     "text": [
      "\u001b[1m1401/1401\u001b[0m \u001b[32m━━━━━━━━━━━━━━━━━━━━\u001b[0m\u001b[37m\u001b[0m \u001b[1m3s\u001b[0m 2ms/step\n"
     ]
    }
   ],
   "source": [
    "from tensorflow.keras import Model\n",
    "\n",
    "# Get the layer before the output (the one that contains the learned \"meaning\")\n",
    "embedding_layer = model.layers[-2].output\n",
    "embedding_model = Model(inputs=model.input, outputs=embedding_layer)\n",
    "\n",
    "# Generate embeddings for all products\n",
    "all_embeddings = embedding_model.predict([X_text, X_vendor, X_price], verbose=1)\n"
   ]
  },
  {
   "cell_type": "code",
   "execution_count": 16,
   "id": "0c6c6574",
   "metadata": {
    "execution": {
     "iopub.execute_input": "2025-10-18T10:59:29.312611Z",
     "iopub.status.busy": "2025-10-18T10:59:29.312263Z",
     "iopub.status.idle": "2025-10-18T10:59:38.812839Z",
     "shell.execute_reply": "2025-10-18T10:59:38.811936Z"
    },
    "papermill": {
     "duration": 9.57728,
     "end_time": "2025-10-18T10:59:38.814425",
     "exception": false,
     "start_time": "2025-10-18T10:59:29.237145",
     "status": "completed"
    },
    "tags": []
   },
   "outputs": [],
   "source": [
    "from sklearn.metrics.pairwise import cosine_similarity\n",
    "dt = dt.drop_duplicates(subset=['title', 'vendor', 'price'])\n",
    "dt = dt.reset_index(drop=True)\n",
    "\n",
    "# Compute cosine similarity between all products\n",
    "similarity_matrix = cosine_similarity(all_embeddings)\n",
    "\n",
    "\n",
    "# Function to recommend top N similar products\n",
    "def recommend_products(index, top_n=5):\n",
    "    scores = similarity_matrix[index]\n",
    "    similar_indices = np.argsort(scores)[::-1][1:top_n+1]  # skip itself\n",
    "    print(\"Product:\", dt.iloc[index]['title'])\n",
    "    print(\"\\nTop Recommendations:\")\n",
    "    for i in similar_indices:\n",
    "        print(f\"- {dt.iloc[i]['title']} | Vendor: {dt.iloc[i]['vendor']} | Price: {dt.iloc[i]['price']}\")\n"
   ]
  },
  {
   "cell_type": "code",
   "execution_count": 17,
   "id": "547bf912",
   "metadata": {
    "execution": {
     "iopub.execute_input": "2025-10-18T10:59:38.965157Z",
     "iopub.status.busy": "2025-10-18T10:59:38.964718Z",
     "iopub.status.idle": "2025-10-18T10:59:38.974584Z",
     "shell.execute_reply": "2025-10-18T10:59:38.973373Z"
    },
    "papermill": {
     "duration": 0.088017,
     "end_time": "2025-10-18T10:59:38.976443",
     "exception": false,
     "start_time": "2025-10-18T10:59:38.888426",
     "status": "completed"
    },
    "tags": []
   },
   "outputs": [
    {
     "name": "stdout",
     "output_type": "stream",
     "text": [
      "Product: Gymshark Vital Crop Top - Base Green Marl\n",
      "\n",
      "Top Recommendations:\n",
      "- Gymshark x Analis Seamless Sports Bra - Reps Red/Carmine Red | Vendor: Gymshark | Be a visionary. | Price: 40.0\n",
      "- Gymshark x Analis Cropped Polo - Midnight Blue | Vendor: Gymshark | Be a visionary. | Price: 35.0\n",
      "- Gymshark x Analis Seamless Sports Bra - Midnight Blue/Lats Blue | Vendor: Gymshark | Be a visionary. | Price: 40.0\n",
      "- Gymshark x Analis Seamless Leggings - Black/Silver Grey | Vendor: Gymshark | Be a visionary. | Price: 60.0\n",
      "- Gymshark x Analis Seamless Leggings - Midnight Blue/Lats Blue | Vendor: Gymshark | Be a visionary. | Price: 60.0\n"
     ]
    }
   ],
   "source": [
    "recommend_products(0, top_n=5)\n"
   ]
  }
 ],
 "metadata": {
  "kaggle": {
   "accelerator": "none",
   "dataSources": [
    {
     "datasetId": 8355652,
     "sourceId": 13185399,
     "sourceType": "datasetVersion"
    }
   ],
   "dockerImageVersionId": 31153,
   "isGpuEnabled": false,
   "isInternetEnabled": false,
   "language": "python",
   "sourceType": "notebook"
  },
  "kernelspec": {
   "display_name": "Python 3",
   "language": "python",
   "name": "python3"
  },
  "language_info": {
   "codemirror_mode": {
    "name": "ipython",
    "version": 3
   },
   "file_extension": ".py",
   "mimetype": "text/x-python",
   "name": "python",
   "nbconvert_exporter": "python",
   "pygments_lexer": "ipython3",
   "version": "3.11.13"
  },
  "papermill": {
   "default_parameters": {},
   "duration": 129.409407,
   "end_time": "2025-10-18T10:59:41.962094",
   "environment_variables": {},
   "exception": null,
   "input_path": "__notebook__.ipynb",
   "output_path": "__notebook__.ipynb",
   "parameters": {},
   "start_time": "2025-10-18T10:57:32.552687",
   "version": "2.6.0"
  }
 },
 "nbformat": 4,
 "nbformat_minor": 5
}
